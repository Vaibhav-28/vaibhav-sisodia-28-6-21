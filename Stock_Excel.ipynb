{
  "nbformat": 4,
  "nbformat_minor": 0,
  "metadata": {
    "colab": {
      "name": "Stock Excel.ipynb",
      "provenance": [],
      "collapsed_sections": [],
      "include_colab_link": true
    },
    "kernelspec": {
      "name": "python3",
      "display_name": "Python 3"
    },
    "language_info": {
      "name": "python"
    }
  },
  "cells": [
    {
      "cell_type": "markdown",
      "metadata": {
        "id": "view-in-github",
        "colab_type": "text"
      },
      "source": [
        "<a href=\"https://colab.research.google.com/github/Vaibhav-28/vaibhav-sisodia-28-6-21/blob/main/Stock_Excel.ipynb\" target=\"_parent\"><img src=\"https://colab.research.google.com/assets/colab-badge.svg\" alt=\"Open In Colab\"/></a>"
      ]
    },
    {
      "cell_type": "code",
      "metadata": {
        "id": "SuGVzZf4D4Tj"
      },
      "source": [
        "import os"
      ],
      "execution_count": null,
      "outputs": []
    },
    {
      "cell_type": "code",
      "metadata": {
        "id": "AQGoUCW40Yem"
      },
      "source": [
        "!pip install nsepy "
      ],
      "execution_count": null,
      "outputs": []
    },
    {
      "cell_type": "code",
      "metadata": {
        "id": "w0AR2_tH6bNT"
      },
      "source": [
        "import datetime"
      ],
      "execution_count": null,
      "outputs": []
    },
    {
      "cell_type": "code",
      "metadata": {
        "id": "hP1YtRTq2x78"
      },
      "source": [
        "from datetime import date"
      ],
      "execution_count": null,
      "outputs": []
    },
    {
      "cell_type": "code",
      "metadata": {
        "id": "pUkG9_mmEujd"
      },
      "source": [
        "import pandas as pd"
      ],
      "execution_count": null,
      "outputs": []
    },
    {
      "cell_type": "code",
      "metadata": {
        "id": "rwzYSQsrGmQm"
      },
      "source": [
        "import pandas_datareader as pdr"
      ],
      "execution_count": null,
      "outputs": []
    },
    {
      "cell_type": "code",
      "metadata": {
        "id": "0aG0O7_Q2kth"
      },
      "source": [
        "from nsepy.derivatives import get_expiry_date"
      ],
      "execution_count": null,
      "outputs": []
    },
    {
      "cell_type": "code",
      "metadata": {
        "id": "99snSZqj3NQC"
      },
      "source": [
        "from nsepy import get_history"
      ],
      "execution_count": null,
      "outputs": []
    },
    {
      "cell_type": "code",
      "metadata": {
        "id": "z2sv53yATrsm"
      },
      "source": [
        "def newdf():\n",
        "  main_frame = {'date':[],\n",
        "          'symbol':[],\n",
        "          'open':[],\n",
        "          'high':[],\n",
        "          'low':[],\n",
        "          'close':[]}\n",
        "  mdf = pd.DataFrame(main_frame)\n",
        "  return mdf\n"
      ],
      "execution_count": null,
      "outputs": []
    },
    {
      "cell_type": "code",
      "metadata": {
        "id": "aVzFVUCIvai1"
      },
      "source": [
        "def monthlyExpiryDate(year,month):\n",
        "  expiry = get_expiry_date(year=year, month=month)\n",
        "  return sorted(list(expiry))[-1]"
      ],
      "execution_count": null,
      "outputs": []
    },
    {
      "cell_type": "code",
      "metadata": {
        "id": "MmRHyj4lC74Z"
      },
      "source": [
        "def addDf(df,mdf):\n",
        "  mdf = mdf.append(df,ignore_index = True)\n",
        "  return mdf\n"
      ],
      "execution_count": null,
      "outputs": []
    },
    {
      "cell_type": "code",
      "metadata": {
        "id": "-oVTdc6xrD9B"
      },
      "source": [
        "def globalData(ticker,start_date,end_date,mdf):\n",
        "  df = pdr.get_data_tiingo(ticker,start_date,end_date ,api_key='cf3f4193b8266e9075bc5bf71d292fc02cad9a0e')\n",
        "  df = df.reset_index([ 'symbol' , 'date' ])\n",
        "  df = df[['date','symbol','open','high','low','close']]\n",
        "  df.set_index('date',inplace=True)\n",
        "  df = df.tz_convert(tz='Asia/Kolkata')\n",
        "  df.index = df.index.strftime('%Y-%m-%d %I-%p')\n",
        "  df.reset_index(['date'],inplace=True)\n",
        "  return addDf(df,mdf)"
      ],
      "execution_count": null,
      "outputs": []
    },
    {
      "cell_type": "code",
      "metadata": {
        "id": "wAlKe1Ck0nOB"
      },
      "source": [
        "def localData(ticker,start_date,end_date,mdf):\n",
        "  i_date = pd.to_datetime(start_date)\n",
        "  f_date = pd.to_datetime(end_date)\n",
        "  ldf = get_history(symbol=ticker,\n",
        "                  start=date(i_date.year, i_date.month, i_date.day),\n",
        "                  end=date(f_date.year, f_date.month, f_date.day),\n",
        "                  futures=True,\n",
        "                  expiry_date=monthlyExpiryDate(i_date.year,i_date.month))\n",
        "  ldf = ldf[['Symbol', 'Open', 'High', 'Low', 'Close']]\n",
        "  ldf.reset_index(['Date'], inplace=True)\n",
        "  ldf.columns = [x.lower() for x in ldf.columns]\n",
        "  return addDf(ldf,mdf)\n"
      ],
      "execution_count": null,
      "outputs": []
    },
    {
      "cell_type": "code",
      "metadata": {
        "id": "vfKRcwTDa_ff"
      },
      "source": [
        "def makeExcel(df):\n",
        "  df.columns = [x.capitalize() for x in df.columns]\n",
        "  df.rename(columns={'Date':'Date(IST)','Symbol':'Ticker Name'},inplace=True)\n",
        "  df.to_excel('data.xlsx')\n",
        "  df = newdf()\n"
      ],
      "execution_count": null,
      "outputs": []
    },
    {
      "cell_type": "code",
      "metadata": {
        "id": "KHo5krRmTOtv"
      },
      "source": [
        "stdate = '2021-04-1'\n",
        "enddate = '2021-07-1'"
      ],
      "execution_count": null,
      "outputs": []
    },
    {
      "cell_type": "code",
      "metadata": {
        "id": "PnwwAhPzP9qW"
      },
      "source": [
        "globl_lst = ['GOLD','USDINR','OIL','DOW','NDAQ','CAC','DAX']"
      ],
      "execution_count": null,
      "outputs": []
    },
    {
      "cell_type": "code",
      "metadata": {
        "id": "VQU8ZhzOrzqF"
      },
      "source": [
        "gdf = newdf()"
      ],
      "execution_count": null,
      "outputs": []
    },
    {
      "cell_type": "code",
      "metadata": {
        "id": "UjMk-E4DTeDM"
      },
      "source": [
        "for ticker in globl_lst:\n",
        "  gdf = globalData(ticker,stdate,enddate,gdf)"
      ],
      "execution_count": null,
      "outputs": []
    },
    {
      "cell_type": "code",
      "metadata": {
        "id": "VNZbPxixBcj7",
        "colab": {
          "base_uri": "https://localhost:8080/",
          "height": 424
        },
        "outputId": "2ab799c2-3dc4-45ba-f750-3acf0ca01a13"
      },
      "source": [
        "gdf"
      ],
      "execution_count": null,
      "outputs": [
        {
          "output_type": "execute_result",
          "data": {
            "text/html": [
              "<div>\n",
              "<style scoped>\n",
              "    .dataframe tbody tr th:only-of-type {\n",
              "        vertical-align: middle;\n",
              "    }\n",
              "\n",
              "    .dataframe tbody tr th {\n",
              "        vertical-align: top;\n",
              "    }\n",
              "\n",
              "    .dataframe thead th {\n",
              "        text-align: right;\n",
              "    }\n",
              "</style>\n",
              "<table border=\"1\" class=\"dataframe\">\n",
              "  <thead>\n",
              "    <tr style=\"text-align: right;\">\n",
              "      <th></th>\n",
              "      <th>date</th>\n",
              "      <th>symbol</th>\n",
              "      <th>open</th>\n",
              "      <th>high</th>\n",
              "      <th>low</th>\n",
              "      <th>close</th>\n",
              "    </tr>\n",
              "  </thead>\n",
              "  <tbody>\n",
              "    <tr>\n",
              "      <th>0</th>\n",
              "      <td>2021-04-01 05-AM</td>\n",
              "      <td>GOLD</td>\n",
              "      <td>20.10</td>\n",
              "      <td>20.4100</td>\n",
              "      <td>19.9400</td>\n",
              "      <td>20.3700</td>\n",
              "    </tr>\n",
              "    <tr>\n",
              "      <th>1</th>\n",
              "      <td>2021-04-05 05-AM</td>\n",
              "      <td>GOLD</td>\n",
              "      <td>20.83</td>\n",
              "      <td>20.8850</td>\n",
              "      <td>20.3525</td>\n",
              "      <td>20.6300</td>\n",
              "    </tr>\n",
              "    <tr>\n",
              "      <th>2</th>\n",
              "      <td>2021-04-06 05-AM</td>\n",
              "      <td>GOLD</td>\n",
              "      <td>20.88</td>\n",
              "      <td>21.1450</td>\n",
              "      <td>20.6850</td>\n",
              "      <td>20.8800</td>\n",
              "    </tr>\n",
              "    <tr>\n",
              "      <th>3</th>\n",
              "      <td>2021-04-07 05-AM</td>\n",
              "      <td>GOLD</td>\n",
              "      <td>20.91</td>\n",
              "      <td>20.9500</td>\n",
              "      <td>20.5900</td>\n",
              "      <td>20.6700</td>\n",
              "    </tr>\n",
              "    <tr>\n",
              "      <th>4</th>\n",
              "      <td>2021-04-08 05-AM</td>\n",
              "      <td>GOLD</td>\n",
              "      <td>20.97</td>\n",
              "      <td>21.1600</td>\n",
              "      <td>20.8900</td>\n",
              "      <td>21.1600</td>\n",
              "    </tr>\n",
              "    <tr>\n",
              "      <th>...</th>\n",
              "      <td>...</td>\n",
              "      <td>...</td>\n",
              "      <td>...</td>\n",
              "      <td>...</td>\n",
              "      <td>...</td>\n",
              "      <td>...</td>\n",
              "    </tr>\n",
              "    <tr>\n",
              "      <th>441</th>\n",
              "      <td>2021-06-25 05-AM</td>\n",
              "      <td>DAX</td>\n",
              "      <td>34.38</td>\n",
              "      <td>34.4899</td>\n",
              "      <td>34.3300</td>\n",
              "      <td>34.3300</td>\n",
              "    </tr>\n",
              "    <tr>\n",
              "      <th>442</th>\n",
              "      <td>2021-06-28 05-AM</td>\n",
              "      <td>DAX</td>\n",
              "      <td>34.33</td>\n",
              "      <td>34.3300</td>\n",
              "      <td>34.0900</td>\n",
              "      <td>34.2058</td>\n",
              "    </tr>\n",
              "    <tr>\n",
              "      <th>443</th>\n",
              "      <td>2021-06-29 05-AM</td>\n",
              "      <td>DAX</td>\n",
              "      <td>33.98</td>\n",
              "      <td>34.0300</td>\n",
              "      <td>33.8201</td>\n",
              "      <td>33.8900</td>\n",
              "    </tr>\n",
              "    <tr>\n",
              "      <th>444</th>\n",
              "      <td>2021-06-30 05-AM</td>\n",
              "      <td>DAX</td>\n",
              "      <td>33.52</td>\n",
              "      <td>33.5750</td>\n",
              "      <td>33.3100</td>\n",
              "      <td>33.5700</td>\n",
              "    </tr>\n",
              "    <tr>\n",
              "      <th>445</th>\n",
              "      <td>2021-07-01 05-AM</td>\n",
              "      <td>DAX</td>\n",
              "      <td>33.61</td>\n",
              "      <td>33.7099</td>\n",
              "      <td>33.5433</td>\n",
              "      <td>33.6250</td>\n",
              "    </tr>\n",
              "  </tbody>\n",
              "</table>\n",
              "<p>446 rows × 6 columns</p>\n",
              "</div>"
            ],
            "text/plain": [
              "                 date symbol   open     high      low    close\n",
              "0    2021-04-01 05-AM   GOLD  20.10  20.4100  19.9400  20.3700\n",
              "1    2021-04-05 05-AM   GOLD  20.83  20.8850  20.3525  20.6300\n",
              "2    2021-04-06 05-AM   GOLD  20.88  21.1450  20.6850  20.8800\n",
              "3    2021-04-07 05-AM   GOLD  20.91  20.9500  20.5900  20.6700\n",
              "4    2021-04-08 05-AM   GOLD  20.97  21.1600  20.8900  21.1600\n",
              "..                ...    ...    ...      ...      ...      ...\n",
              "441  2021-06-25 05-AM    DAX  34.38  34.4899  34.3300  34.3300\n",
              "442  2021-06-28 05-AM    DAX  34.33  34.3300  34.0900  34.2058\n",
              "443  2021-06-29 05-AM    DAX  33.98  34.0300  33.8201  33.8900\n",
              "444  2021-06-30 05-AM    DAX  33.52  33.5750  33.3100  33.5700\n",
              "445  2021-07-01 05-AM    DAX  33.61  33.7099  33.5433  33.6250\n",
              "\n",
              "[446 rows x 6 columns]"
            ]
          },
          "metadata": {
            "tags": []
          },
          "execution_count": 19
        }
      ]
    },
    {
      "cell_type": "code",
      "metadata": {
        "id": "ELkb4slnHxtW"
      },
      "source": [
        "makeExcel(gdf)"
      ],
      "execution_count": null,
      "outputs": []
    },
    {
      "cell_type": "code",
      "metadata": {
        "id": "XT1tl1s1iFdI"
      },
      "source": [
        "gdf = localData('NIFTY', '2021-04-1', '2021-07-01', gdf)"
      ],
      "execution_count": null,
      "outputs": []
    },
    {
      "cell_type": "code",
      "metadata": {
        "id": "86fOPftnB4nq",
        "colab": {
          "base_uri": "https://localhost:8080/",
          "height": 424
        },
        "outputId": "cf8c73de-6e95-4840-bbe0-36a835160ed1"
      },
      "source": [
        "gdf"
      ],
      "execution_count": null,
      "outputs": [
        {
          "output_type": "execute_result",
          "data": {
            "text/html": [
              "<div>\n",
              "<style scoped>\n",
              "    .dataframe tbody tr th:only-of-type {\n",
              "        vertical-align: middle;\n",
              "    }\n",
              "\n",
              "    .dataframe tbody tr th {\n",
              "        vertical-align: top;\n",
              "    }\n",
              "\n",
              "    .dataframe thead th {\n",
              "        text-align: right;\n",
              "    }\n",
              "</style>\n",
              "<table border=\"1\" class=\"dataframe\">\n",
              "  <thead>\n",
              "    <tr style=\"text-align: right;\">\n",
              "      <th></th>\n",
              "      <th>Date(IST)</th>\n",
              "      <th>Ticker Name</th>\n",
              "      <th>Open</th>\n",
              "      <th>High</th>\n",
              "      <th>Low</th>\n",
              "      <th>Close</th>\n",
              "    </tr>\n",
              "  </thead>\n",
              "  <tbody>\n",
              "    <tr>\n",
              "      <th>0</th>\n",
              "      <td>2021-04-01 05-AM</td>\n",
              "      <td>GOLD</td>\n",
              "      <td>20.10</td>\n",
              "      <td>20.4100</td>\n",
              "      <td>19.9400</td>\n",
              "      <td>20.3700</td>\n",
              "    </tr>\n",
              "    <tr>\n",
              "      <th>1</th>\n",
              "      <td>2021-04-05 05-AM</td>\n",
              "      <td>GOLD</td>\n",
              "      <td>20.83</td>\n",
              "      <td>20.8850</td>\n",
              "      <td>20.3525</td>\n",
              "      <td>20.6300</td>\n",
              "    </tr>\n",
              "    <tr>\n",
              "      <th>2</th>\n",
              "      <td>2021-04-06 05-AM</td>\n",
              "      <td>GOLD</td>\n",
              "      <td>20.88</td>\n",
              "      <td>21.1450</td>\n",
              "      <td>20.6850</td>\n",
              "      <td>20.8800</td>\n",
              "    </tr>\n",
              "    <tr>\n",
              "      <th>3</th>\n",
              "      <td>2021-04-07 05-AM</td>\n",
              "      <td>GOLD</td>\n",
              "      <td>20.91</td>\n",
              "      <td>20.9500</td>\n",
              "      <td>20.5900</td>\n",
              "      <td>20.6700</td>\n",
              "    </tr>\n",
              "    <tr>\n",
              "      <th>4</th>\n",
              "      <td>2021-04-08 05-AM</td>\n",
              "      <td>GOLD</td>\n",
              "      <td>20.97</td>\n",
              "      <td>21.1600</td>\n",
              "      <td>20.8900</td>\n",
              "      <td>21.1600</td>\n",
              "    </tr>\n",
              "    <tr>\n",
              "      <th>...</th>\n",
              "      <td>...</td>\n",
              "      <td>...</td>\n",
              "      <td>...</td>\n",
              "      <td>...</td>\n",
              "      <td>...</td>\n",
              "      <td>...</td>\n",
              "    </tr>\n",
              "    <tr>\n",
              "      <th>441</th>\n",
              "      <td>2021-06-25 05-AM</td>\n",
              "      <td>DAX</td>\n",
              "      <td>34.38</td>\n",
              "      <td>34.4899</td>\n",
              "      <td>34.3300</td>\n",
              "      <td>34.3300</td>\n",
              "    </tr>\n",
              "    <tr>\n",
              "      <th>442</th>\n",
              "      <td>2021-06-28 05-AM</td>\n",
              "      <td>DAX</td>\n",
              "      <td>34.33</td>\n",
              "      <td>34.3300</td>\n",
              "      <td>34.0900</td>\n",
              "      <td>34.2058</td>\n",
              "    </tr>\n",
              "    <tr>\n",
              "      <th>443</th>\n",
              "      <td>2021-06-29 05-AM</td>\n",
              "      <td>DAX</td>\n",
              "      <td>33.98</td>\n",
              "      <td>34.0300</td>\n",
              "      <td>33.8201</td>\n",
              "      <td>33.8900</td>\n",
              "    </tr>\n",
              "    <tr>\n",
              "      <th>444</th>\n",
              "      <td>2021-06-30 05-AM</td>\n",
              "      <td>DAX</td>\n",
              "      <td>33.52</td>\n",
              "      <td>33.5750</td>\n",
              "      <td>33.3100</td>\n",
              "      <td>33.5700</td>\n",
              "    </tr>\n",
              "    <tr>\n",
              "      <th>445</th>\n",
              "      <td>2021-07-01 05-AM</td>\n",
              "      <td>DAX</td>\n",
              "      <td>33.61</td>\n",
              "      <td>33.7099</td>\n",
              "      <td>33.5433</td>\n",
              "      <td>33.6250</td>\n",
              "    </tr>\n",
              "  </tbody>\n",
              "</table>\n",
              "<p>446 rows × 6 columns</p>\n",
              "</div>"
            ],
            "text/plain": [
              "            Date(IST) Ticker Name   Open     High      Low    Close\n",
              "0    2021-04-01 05-AM        GOLD  20.10  20.4100  19.9400  20.3700\n",
              "1    2021-04-05 05-AM        GOLD  20.83  20.8850  20.3525  20.6300\n",
              "2    2021-04-06 05-AM        GOLD  20.88  21.1450  20.6850  20.8800\n",
              "3    2021-04-07 05-AM        GOLD  20.91  20.9500  20.5900  20.6700\n",
              "4    2021-04-08 05-AM        GOLD  20.97  21.1600  20.8900  21.1600\n",
              "..                ...         ...    ...      ...      ...      ...\n",
              "441  2021-06-25 05-AM         DAX  34.38  34.4899  34.3300  34.3300\n",
              "442  2021-06-28 05-AM         DAX  34.33  34.3300  34.0900  34.2058\n",
              "443  2021-06-29 05-AM         DAX  33.98  34.0300  33.8201  33.8900\n",
              "444  2021-06-30 05-AM         DAX  33.52  33.5750  33.3100  33.5700\n",
              "445  2021-07-01 05-AM         DAX  33.61  33.7099  33.5433  33.6250\n",
              "\n",
              "[446 rows x 6 columns]"
            ]
          },
          "metadata": {
            "tags": []
          },
          "execution_count": 22
        }
      ]
    },
    {
      "cell_type": "code",
      "metadata": {
        "id": "cr9e-7o7WDW-"
      },
      "source": [
        "makeExcel(gdf)"
      ],
      "execution_count": null,
      "outputs": []
    }
  ]
}